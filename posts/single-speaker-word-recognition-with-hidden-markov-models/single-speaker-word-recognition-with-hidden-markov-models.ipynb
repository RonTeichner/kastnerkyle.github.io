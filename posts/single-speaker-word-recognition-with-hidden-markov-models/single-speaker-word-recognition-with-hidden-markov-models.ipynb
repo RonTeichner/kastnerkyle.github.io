{
 "cells": [
  {
   "cell_type": "markdown",
   "metadata": {},
   "source": [
    "Hidden Markov Models (HMMs) are powerful, flexible methods for representing and classifying data with trends over time, and have been a key component in speech recognition systems for many years.\n",
    "\n",
    "I found it very difficult to find a good example (with code) of a simple speech recognition system, so I decided to create this post. Though this implementation won't win any awards for \"Best Speech Recognizer\", I hope it will provide some insight into how HMMs can be used for speech recognition and other tasks.\n",
    "<!-- TEASER_END -->\n",
    "\n",
    "In this post, I will define what Hidden Markov Models are, show how to implement one form (Gaussian Mixture Model HMM, GMM-HMM) using numpy + scipy, and how to use this algorithm for single speaker speech recognition. For a more \"production grade\" HMM implementation, see [hmmlearn](https://github.com/hmmlearn/hmmlearn) which holds the HMM implementations that were formerly a part of [sklearn](http://scikit-learn.org/stable/)."
   ]
  },
  {
   "cell_type": "markdown",
   "metadata": {},
   "source": [
    "Data\n",
    "----\n",
    "\n",
    "To demonstrate this algorithm, we need a dataset to operate on. I have chosen to use the sample dataset from [this Google Code project by Hakon Sandsmark](https://code.google.com/p/hmm-speech-recognition/downloads/list). I also used this code as a reference when creating my own implementation of a Guassian Mixture Model HMM (GMM-HMM). This aided in testing my implementation, as well as giving a frame of reference for performance. \n",
    "\n",
    "Other available datasets are largely multispeaker, but the simple frequency peak features used in this example do not work in the multispeaker regime (different speakers have different frequency content for the same word! Let alone male/female speech differences). Future work will cover more advanced feature extraction techniques for audio, and extend these examples to multispeaker recognition."
   ]
  },
  {
   "cell_type": "code",
   "execution_count": 1,
   "metadata": {},
   "outputs": [],
   "source": [
    "import numpy as np\n",
    "import matplotlib.pyplot as plt\n",
    "import scipy.stats as st\n",
    "%matplotlib inline"
   ]
  },
  {
   "cell_type": "code",
   "execution_count": 2,
   "metadata": {
    "collapsed": false,
    "jupyter": {
     "outputs_hidden": false
    }
   },
   "outputs": [],
   "source": [
    "import sys\n",
    "import os\n",
    "sys.path.insert(0, os.path.abspath('../'))\n",
    "from utils import progress_bar_downloader"
   ]
  },
  {
   "cell_type": "code",
   "execution_count": 3,
   "metadata": {
    "collapsed": false,
    "jupyter": {
     "outputs_hidden": false
    }
   },
   "outputs": [
    {
     "name": "stdout",
     "output_type": "stream",
     "text": [
      "Words spoken: ['lime', 'pineapple', 'kiwi', 'orange', 'apple', 'banana', 'peach']\n"
     ]
    }
   ],
   "source": [
    "fpaths = []\n",
    "labels = []\n",
    "spoken = []\n",
    "for f in os.listdir('audio'):\n",
    "    for w in os.listdir('audio/' + f):\n",
    "        fpaths.append('audio/' + f + '/' + w)\n",
    "        labels.append(f)\n",
    "        if f not in spoken:\n",
    "            spoken.append(f)\n",
    "print('Words spoken:', spoken)"
   ]
  },
  {
   "cell_type": "markdown",
   "metadata": {},
   "source": [
    "This data has a total of 7 different spoken words, and each was spoken 15 different times, giving a grand total of 105 files. Next, the files will be extracted into a single data matrix (zero padding files to uniform length), and a label vector with the correct label for each data file is created."
   ]
  },
  {
   "cell_type": "code",
   "execution_count": 4,
   "metadata": {
    "collapsed": false,
    "jupyter": {
     "outputs_hidden": false
    }
   },
   "outputs": [
    {
     "name": "stdout",
     "output_type": "stream",
     "text": [
      "Number of files total: 105\n",
      "Labels and label indices [3. 3. 3. 3. 3. 3. 3. 3. 3. 3. 3. 3. 3. 3. 3. 1. 1. 1. 1. 1. 1. 1. 1. 1.\n",
      " 1. 1. 1. 1. 1. 1. 4. 4. 4. 4. 4. 4. 4. 4. 4. 4. 4. 4. 4. 4. 4. 0. 0. 0.\n",
      " 0. 0. 0. 0. 0. 0. 0. 0. 0. 0. 0. 0. 2. 2. 2. 2. 2. 2. 2. 2. 2. 2. 2. 2.\n",
      " 2. 2. 2. 5. 5. 5. 5. 5. 5. 5. 5. 5. 5. 5. 5. 5. 5. 5. 6. 6. 6. 6. 6. 6.\n",
      " 6. 6. 6. 6. 6. 6. 6. 6. 6.]\n"
     ]
    }
   ],
   "source": [
    "#Files can be heard in Linux using the following commands from the command line\n",
    "#cat kiwi07.wav | aplay -f S16_LE -t wav -r 8000\n",
    "#Files are signed 16 bit raw, sample rate 8000\n",
    "from scipy.io import wavfile\n",
    "\n",
    "data = np.zeros((len(fpaths), 32000))\n",
    "maxsize = -1\n",
    "for n,file in enumerate(fpaths):\n",
    "    _, d = wavfile.read(file)\n",
    "    data[n, :d.shape[0]] = d\n",
    "    if d.shape[0] > maxsize:\n",
    "        maxsize = d.shape[0]\n",
    "data = data[:, :maxsize]\n",
    "\n",
    "#Each sample file is one row in data, and has one entry in labels\n",
    "print('Number of files total:', data.shape[0])\n",
    "all_labels = np.zeros(data.shape[0])\n",
    "for n, l in enumerate(set(labels)):\n",
    "    all_labels[np.array([i for i, _ in enumerate(labels) if _ == l])] = n\n",
    "    \n",
    "print('Labels and label indices', all_labels)"
   ]
  },
  {
   "cell_type": "markdown",
   "metadata": {},
   "source": [
    "Science Fiction (Double Feature)\n",
    "--------------------------------\n",
    "\n",
    "Once the data has been downloaded and turned into an input matrix, the next step is to extract features from the raw data, as is done in many other machine learning pipelines. \n",
    "\n",
    "Most \"consumer grade\" speaker recognition systems use advanced processing to extract a variety of features that describe the sound over both frequency and time, and until recently \"custom features\" were one of the keys to making a great recognition system. The current state of the art (to my knowledge, at least) has recently moved to using deep neural networks for feature extraction, which I hope to show in a future post. For now, we will stick to very simple features, in order to show a \"simplest working example\".\n",
    "\n",
    "In this example MFCC is used"
   ]
  },
  {
   "cell_type": "code",
   "execution_count": 5,
   "metadata": {
    "collapsed": false,
    "jupyter": {
     "outputs_hidden": false
    }
   },
   "outputs": [
    {
     "data": {
      "text/plain": [
       "<Figure size 432x288 with 0 Axes>"
      ]
     },
     "execution_count": 5,
     "metadata": {},
     "output_type": "execute_result"
    },
    {
     "data": {
      "image/png": "[encoded data removed]",
      "text/plain": [
       "<Figure size 432x288 with 1 Axes>"
      ]
     },
     "metadata": {
      "needs_background": "light"
     },
     "output_type": "display_data"
    },
    {
     "data": {
      "text/plain": [
       "<Figure size 432x288 with 0 Axes>"
      ]
     },
     "metadata": {},
     "output_type": "display_data"
    }
   ],
   "source": [
    "import matplotlib.pyplot as plt\n",
    "plt.plot(data[0, :], color='steelblue')\n",
    "plt.title('Timeseries example for %s'%labels[0])\n",
    "plt.xlim(0, 3500)\n",
    "plt.xlabel('Time (samples)')\n",
    "plt.ylabel('Amplitude (signed 16 bit)')\n",
    "plt.figure()\n"
   ]
  },
  {
   "cell_type": "markdown",
   "metadata": {},
   "source": [
    "GMM-HMM Bop\n",
    "-----------\n",
    "\n",
    "An implementation of a GMM-HMM is shown below. This code is also available as a [gist](https://gist.github.com/kastnerkyle/75483d51641a0c03bf7c), and any improvements I make will show up there.\n",
    "\n",
    "This algorithm is fairly complex, and a good summary can be seen [here, Brown](http://cs.brown.edu/research/ai/dynamics/tutorial/Documents/HiddenMarkovModels.html) and [here, Moore](http://www.autonlab.org/tutorials/hmm.html). This implementation does *not* have any Viterbi backtracking - since my only interest (for now) is in speech classification, only Baum-Welch and Forward-Backward portions of the GMM-HMM are necessary.\n",
    "\n",
    "HMMs can do do three primary tasks:\n",
    "\n",
    "1. State Estimation $P(S | O)$ - can be useful *if* you have prior info about what states mean and create the state probabilities yourself.\n",
    "2. Path Estimation - given observations, what is the most likely \"state path\"? Not useful in our case, and not even implemented here!\n",
    "3. Maximum Likelihood Estimation $P(O | \\lambda)$ - learn the HMM parameters $\\lambda$ which maximize the probability of observations. This is the primary method we will use.\n",
    "\n",
    "To train the HMM, we use the Baum-Welch algorithm. There are many, many resources on this algorithm and I will not regurgitate here. Implementing this HMM was fairly tricky, and I highly recommend using a library unless you are interested in a \"learning experience\".\n",
    "\n",
    "This code uses requires scipy 0.14 for the multivariate_normal density."
   ]
  },
  {
   "cell_type": "markdown",
   "metadata": {},
   "source": [
    "Still Peaking\n",
    "-------------\n",
    "\n",
    "Once the mfcc are detected for each frame, we have a 3 dimensional numpy array of size [numdatafiles, numpeaks, numframes] "
   ]
  },
  {
   "cell_type": "markdown",
   "metadata": {},
   "source": [
    "To predict words, we need to train 7 separate GMM-HMM models, one for each word. We will then feed the features for a test sample into each, choosing the word associated with the GMM-HMM having the highest output likelihood. This maximum likelihood estimate is our best guess for what word was spoken.\n",
    "\n",
    "We use the package from https://hmmlearn.readthedocs.io/en/latest/:<br>\n",
    "**A fix to the package is described below!**"
   ]
  },
  {
   "cell_type": "markdown",
   "metadata": {},
   "source": [
    "I analyzed the shape of the inner variables:<br>\n",
    "msG[0].covars_prior =  [n_states, n_mix, n_features]<br>\n",
    "msG[0].covars_weight = [n_states, n_mix, n_features]<br>\n",
    "msG[0].means_prior =   [n_states, n_mix, n_features]<br>\n",
    "msG[0].means_weight=   [n_states, n_mix]<br>\n",
    "msG[0].weights_prior=  [n_states, n_mix]<br>\n",
    "<br>\n",
    "msG[0].transmat_ = [n_states, n_states]<br>\n",
    "msG[0].startprob_= [n_states]<br>\n",
    "msG[0].means__= [n_states, n_mix, n_features]<br>\n",
    "msG[0].covars_= [n_states, n_mix, n_features] (this is for covariance_type == 'diag')<br>\n",
    "msG[0].weights_ = [n_states, n_mix]<br>\n"
   ]
  },
  {
   "cell_type": "markdown",
   "metadata": {},
   "source": [
    "When trying to utilize 'fit' of the hmm package we get an error that the sum of probabilities in the transfer matrix do not sum to one. After investigating the issue we see that the exponent of the log-probabilities is equal to inf. <br>\n",
    "At stats.py line 41 there's the function _log_multivariate_normal_density_diag that calculates and return the too high log-probability. The calculation is: $-\\frac{1}{2}(d\\operatorname{log}(2\\pi) + \\sum_{i=1}^d \\operatorname{log}(\\sigma_i^2) + \\sum_{i=1}^d\\frac{\\mu_i^2}{\\sigma_i^2} - 2 X \\cdot \\mu \\odot \\sigma^2 + X^2 \\cdot 1 \\odot \\sigma^2)$<br>\n",
    "The problem seems to be because the $\\sigma^2$ values are too small. <br>\n",
    "\n",
    "The fix:\n",
    "hmm.py @ line 985: self.covars_ = new_cov ---> self.covars_ = new_cov + self.min_covar<br>\n"
   ]
  },
  {
   "cell_type": "markdown",
   "metadata": {},
   "source": [
    "# extracting MFCC features:"
   ]
  },
  {
   "cell_type": "code",
   "execution_count": 6,
   "metadata": {},
   "outputs": [],
   "source": [
    "def calculate_delta(array):\n",
    "    \"\"\"Calculate and returns the delta of given feature vector matrix\"\"\"\n",
    "\n",
    "    rows,cols = array.shape\n",
    "    deltas = np.zeros((rows,20))\n",
    "    N = 2\n",
    "    for i in range(rows):\n",
    "        index = []\n",
    "        j = 1\n",
    "        while j <= N:\n",
    "            if i-j < 0:\n",
    "                first = 0\n",
    "            else:\n",
    "                first = i-j\n",
    "            if i+j > rows -1:\n",
    "                second = rows -1\n",
    "            else:\n",
    "                second = i+j\n",
    "            index.append((second,first))\n",
    "            j+=1\n",
    "        deltas[i] = ( array[index[0][0]]-array[index[0][1]] + (2 * (array[index[1][0]]-array[index[1][1]])) ) / 10\n",
    "    return deltas"
   ]
  },
  {
   "cell_type": "code",
   "execution_count": 7,
   "metadata": {},
   "outputs": [],
   "source": [
    "import python_speech_features as mfcc\n",
    "nWords = data.shape[0]\n",
    "sr = 8000\n",
    "features = list()\n",
    "for wordIdx in range(nWords):\n",
    "    mfcc_feat = mfcc.mfcc(signal=data[wordIdx], samplerate=sr, winlen=0.025, winstep=0.0025, numcep=20, appendEnergy=True)\n",
    "    delta = calculate_delta(mfcc_feat)\n",
    "    combined = np.hstack((mfcc_feat, delta))\n",
    "    features.append(combined) # features is a list. each entry contains a matrix of MFCC coeffs for a specific wav file"
   ]
  },
  {
   "cell_type": "code",
   "execution_count": 8,
   "metadata": {},
   "outputs": [],
   "source": [
    "nTrain = int(0.9*nWords)\n",
    "nTest = nWords - nTrain\n",
    "\n",
    "indexPermutation = np.random.permutation(nWords)\n",
    "trainIdx = indexPermutation[:nTrain]\n",
    "testIdx = indexPermutation[nTrain:]\n",
    "\n",
    "trainWav = data[trainIdx, :]\n",
    "testWav = data[testIdx, :]\n",
    "\n",
    "trainLabels = all_labels[trainIdx]\n",
    "testLabels = all_labels[testIdx]\n",
    "\n",
    "    \n",
    "testFeatures = np.asarray(())\n",
    "testFeaturesLengths = np.asarray(())\n",
    "for wordIdx in testIdx:    \n",
    "    if testFeatures.size == 0:\n",
    "        testFeatures = features[wordIdx]\n",
    "        testFeaturesLengths = features[wordIdx].shape[0]\n",
    "    else:\n",
    "        testFeatures = np.vstack((testFeatures, features[wordIdx]))\n",
    "        testFeaturesLengths = np.vstack((testFeaturesLengths, features[wordIdx].shape[0]))        "
   ]
  },
  {
   "cell_type": "markdown",
   "metadata": {},
   "source": [
    "# Training on MFCC:"
   ]
  },
  {
   "cell_type": "code",
   "execution_count": 9,
   "metadata": {},
   "outputs": [],
   "source": [
    "from hmmlearn.hmm import GMMHMM as GMMHMM\n",
    "\n",
    "ys = set(all_labels)\n",
    "covariance_type = 'diag'\n",
    "\n",
    "msG = [GMMHMM(n_components=6, n_mix=1, n_iter=100, covariance_type=covariance_type, min_covar=1e-3) for y in ys] # ms[i] stores the gmmhmm model for word no. i i={0,...,6}\n",
    "nModels = len(msG)\n",
    "# my own long code for calling fit:\n",
    "for modelIdx in range(nModels):\n",
    "    \n",
    "    trainFeatures = np.asarray(())\n",
    "    trainFeaturesLengths = np.asarray(())\n",
    "    \n",
    "    for wordIdx in range(len(trainLabels)):\n",
    "        wordLabel = trainLabels[wordIdx]        \n",
    "        if wordLabel == modelIdx:\n",
    "            if trainFeatures.size == 0:\n",
    "                trainFeatures = features[trainIdx[wordIdx]]\n",
    "                trainFeaturesLengths = int(features[trainIdx[wordIdx]].shape[0])\n",
    "            else:\n",
    "                trainFeatures = np.vstack((trainFeatures, features[trainIdx[wordIdx]]))\n",
    "                trainFeaturesLengths = np.vstack((trainFeaturesLengths, int(features[trainIdx[wordIdx]].shape[0])))\n",
    "    msG[modelIdx].fit(trainFeatures, trainFeaturesLengths.reshape(-1))"
   ]
  },
  {
   "cell_type": "code",
   "execution_count": 10,
   "metadata": {},
   "outputs": [
    {
     "name": "stdout",
     "output_type": "stream",
     "text": [
      "hmm package Test accuracy: 90.91 percent\n"
     ]
    }
   ],
   "source": [
    "# test models:\n",
    "nWavFilesInTest = len(testLabels)\n",
    "res = np.zeros([nModels, nWavFilesInTest])\n",
    "for modelIdx in range(nModels):\n",
    "    for wavIdx in range(nWavFilesInTest):\n",
    "        wavFeatures = features[testIdx[wavIdx]] #wavFeatures.shape: (n_samples, n_features)\n",
    "        res[modelIdx, wavIdx] = msG[modelIdx].score(wavFeatures)\n",
    "predicted_labels = np.argmax(res, axis=0) # the winnder-model for each wav-file\n",
    "missed = (predicted_labels != testLabels)\n",
    "print('hmm package Test accuracy: %.2f percent' % (100 * (1 - np.mean(missed))))"
   ]
  },
  {
   "cell_type": "code",
   "execution_count": 11,
   "metadata": {
    "collapsed": false,
    "jupyter": {
     "outputs_hidden": false
    }
   },
   "outputs": [
    {
     "data": {
      "text/plain": [
       "Text(0.5, 0, 'Predicted label')"
      ]
     },
     "execution_count": 11,
     "metadata": {},
     "output_type": "execute_result"
    },
    {
     "data": {
      "image/png": "[encoded data removed]",
      "text/plain": [
       "<Figure size 288x288 with 1 Axes>"
      ]
     },
     "metadata": {
      "needs_background": "light"
     },
     "output_type": "display_data"
    }
   ],
   "source": [
    "from sklearn.metrics import confusion_matrix\n",
    "cm = confusion_matrix(testLabels, predicted_labels)\n",
    "plt.matshow(cm, cmap='gray')\n",
    "ax = plt.gca()\n",
    "_ = ax.set_xticklabels([\" \"] + [l[:2] for l in spoken])\n",
    "_ = ax.set_yticklabels([\" \"] + spoken)\n",
    "plt.title('Confusion matrix, single speaker')\n",
    "plt.ylabel('True label')\n",
    "plt.xlabel('Predicted label')"
   ]
  },
  {
   "cell_type": "markdown",
   "metadata": {},
   "source": [
    "Though the confusion matrix doesn't provide much insight, it is good to see a \"real\" example of using HMMs to do single speaker speech recognition."
   ]
  }
 ],
 "metadata": {
  "kernelspec": {
   "display_name": "Python [conda env:pytorchDenoising] *",
   "language": "python",
   "name": "conda-env-pytorchDenoising-py"
  },
  "language_info": {
   "codemirror_mode": {
    "name": "ipython",
    "version": 3
   },
   "file_extension": ".py",
   "mimetype": "text/x-python",
   "name": "python",
   "nbconvert_exporter": "python",
   "pygments_lexer": "ipython3",
   "version": "3.7.2"
  }
 },
 "nbformat": 4,
 "nbformat_minor": 4
}
